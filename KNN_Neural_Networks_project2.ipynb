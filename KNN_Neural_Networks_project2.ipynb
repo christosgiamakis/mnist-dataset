{
  "nbformat": 4,
  "nbformat_minor": 0,
  "metadata": {
    "colab": {
      "name": "KNN Neural Networks project2.ipynb",
      "provenance": [],
      "collapsed_sections": []
    },
    "kernelspec": {
      "name": "python3",
      "display_name": "Python 3"
    }
  },
  "cells": [
    {
      "cell_type": "markdown",
      "metadata": {
        "id": "IjDoMitNjdwt"
      },
      "source": [
        "Φορτώνουμε τις βιβλιοθήκες και τα εργαλεία που θα χρειαστούμε."
      ]
    },
    {
      "cell_type": "code",
      "metadata": {
        "id": "kgl_20vxhLWd"
      },
      "source": [
        "#Βιβλιοθήκες που χρησιμοποιήθηκαν για την ενδιάμεση εργασία.\n",
        "import keras\n",
        "import numpy as np\n",
        "import matplotlib.pyplot as plt\n",
        "from sklearn.neighbors import KNeighborsClassifier\n",
        "from sklearn.neighbors import NearestCentroid\n",
        "from sklearn.metrics import accuracy_score\n",
        "\n",
        "#Πρόσθετες βιβλιοθήκες που χρησιμοποιήθηκαν για την τελική εργασία.\n",
        "from keras.models import Sequential\n",
        "from keras.layers import Dense, Activation\n",
        "from keras.optimizers import SGD\n",
        "\n",
        "%matplotlib inline\n",
        "np.random.seed(42)"
      ],
      "execution_count": null,
      "outputs": []
    },
    {
      "cell_type": "markdown",
      "metadata": {
        "id": "8egcDhfnjwYM"
      },
      "source": [
        "Φορτώνουμε το dataset."
      ]
    },
    {
      "cell_type": "code",
      "metadata": {
        "id": "pzb3KQ6zjUqT"
      },
      "source": [
        "from keras.datasets import mnist\n",
        "(x_train, y_train), (x_test,y_test)=mnist.load_data()"
      ],
      "execution_count": null,
      "outputs": []
    },
    {
      "cell_type": "markdown",
      "metadata": {
        "id": "VS6rV7UvQFNT"
      },
      "source": [
        "Θα ελέγχξουμε τη διάσταση των x_train, x_test, y_train, y_test."
      ]
    },
    {
      "cell_type": "code",
      "metadata": {
        "id": "vKNyDLnTQO28",
        "colab": {
          "base_uri": "https://localhost:8080/"
        },
        "outputId": "e9a288cc-699f-474d-8e1d-ce4569b1209b"
      },
      "source": [
        "print(x_train.shape)\n",
        "print(x_test.shape)\n",
        "print(y_train.shape)\n",
        "print(y_test.shape)"
      ],
      "execution_count": null,
      "outputs": [
        {
          "output_type": "stream",
          "text": [
            "(60000, 28, 28)\n",
            "(10000, 28, 28)\n",
            "(60000,)\n",
            "(10000,)\n"
          ],
          "name": "stdout"
        }
      ]
    },
    {
      "cell_type": "markdown",
      "metadata": {
        "id": "f3KA2_0J8qVK"
      },
      "source": [
        "Οπτικοποίηση δεδομένων εισόδου."
      ]
    },
    {
      "cell_type": "code",
      "metadata": {
        "colab": {
          "base_uri": "https://localhost:8080/",
          "height": 88
        },
        "id": "VcpgqQOd80aj",
        "outputId": "cab766fb-3eab-4541-b5d4-ab01fc2ae4ef"
      },
      "source": [
        "f, ax = plt.subplots(1, 10, figsize=(28,28))\n",
        "\n",
        "for i in range (0,10):\n",
        "  sample=x_train[y_train==i][0]\n",
        "  ax[i].imshow(sample, cmap='gray')\n",
        "  ax[i].set_title('Label: {}'.format(i), fontsize=16)"
      ],
      "execution_count": null,
      "outputs": [
        {
          "output_type": "display_data",
          "data": {
            "image/png": "[encoded data removed]",
            "text/plain": [
              "<Figure size 2016x2016 with 10 Axes>"
            ]
          },
          "metadata": {
            "tags": [],
            "needs_background": "light"
          }
        }
      ]
    },
    {
      "cell_type": "markdown",
      "metadata": {
        "id": "JpjVT8nDAHEA"
      },
      "source": [
        "Ας δούμε και τη μορφή έχουν τα labels."
      ]
    },
    {
      "cell_type": "code",
      "metadata": {
        "colab": {
          "base_uri": "https://localhost:8080/"
        },
        "id": "gzmVc4NCAF7F",
        "outputId": "3603caff-365c-4c76-e95c-a9499c92e9ba"
      },
      "source": [
        "for i in range(10):\n",
        "  print(y_train[i])"
      ],
      "execution_count": null,
      "outputs": [
        {
          "output_type": "stream",
          "text": [
            "5\n",
            "0\n",
            "4\n",
            "1\n",
            "9\n",
            "2\n",
            "1\n",
            "3\n",
            "1\n",
            "4\n"
          ],
          "name": "stdout"
        }
      ]
    },
    {
      "cell_type": "markdown",
      "metadata": {
        "id": "1qjn9JedS2bP"
      },
      "source": [
        "Κανονικοποιήσεις και μορφοποιήσεις στα train και test sets."
      ]
    },
    {
      "cell_type": "code",
      "metadata": {
        "id": "8ZPdd26PS7G4",
        "colab": {
          "base_uri": "https://localhost:8080/"
        },
        "outputId": "5c26080d-470a-462d-cbe0-43422f7f33b8"
      },
      "source": [
        "#Μετατροπή των x_train, x_test σε διάνυσμα.\n",
        "x_train = x_train.reshape(-1, 28*28)\n",
        "x_test = x_test.reshape(-1, 28*28)\n",
        "print(x_train.shape)\n",
        "print(x_test.shape)\n",
        "\n",
        "#Kανονικοποιούμε τα δεδομένα εισόδου.\n",
        "x_train = x_train / 255.0\n",
        "x_test = x_test / 255.\n",
        "\n",
        "#One hot κωδικοποίηση των labels.\n",
        "y_train = keras.utils.to_categorical(y_train, num_classes=10)\n",
        "y_test = keras.utils.to_categorical(y_test, num_classes=10)\n",
        "for i in range(10):\n",
        "  print(y_train[i])\n"
      ],
      "execution_count": null,
      "outputs": [
        {
          "output_type": "stream",
          "text": [
            "(60000, 784)\n",
            "(10000, 784)\n",
            "[0. 0. 0. 0. 0. 1. 0. 0. 0. 0.]\n",
            "[1. 0. 0. 0. 0. 0. 0. 0. 0. 0.]\n",
            "[0. 0. 0. 0. 1. 0. 0. 0. 0. 0.]\n",
            "[0. 1. 0. 0. 0. 0. 0. 0. 0. 0.]\n",
            "[0. 0. 0. 0. 0. 0. 0. 0. 0. 1.]\n",
            "[0. 0. 1. 0. 0. 0. 0. 0. 0. 0.]\n",
            "[0. 1. 0. 0. 0. 0. 0. 0. 0. 0.]\n",
            "[0. 0. 0. 1. 0. 0. 0. 0. 0. 0.]\n",
            "[0. 1. 0. 0. 0. 0. 0. 0. 0. 0.]\n",
            "[0. 0. 0. 0. 1. 0. 0. 0. 0. 0.]\n"
          ],
          "name": "stdout"
        }
      ]
    },
    {
      "cell_type": "markdown",
      "metadata": {
        "id": "2HrDnAose8h1"
      },
      "source": [
        "Τρέχουμε τον classifier KNN για n=1 και τυπώνουμε accuracy."
      ]
    },
    {
      "cell_type": "code",
      "metadata": {
        "colab": {
          "base_uri": "https://localhost:8080/"
        },
        "id": "3plTr3liT1NJ",
        "outputId": "674e8cca-fd59-4b20-c27e-4a8631d027ed"
      },
      "source": [
        "model = KNeighborsClassifier(n_neighbors=1)\n",
        "model.fit(x_train, y_train)\n",
        "\n",
        "preds = model.predict(x_test)\n",
        "accuracy = accuracy_score(y_test, preds)\n",
        "print(accuracy)"
      ],
      "execution_count": null,
      "outputs": [
        {
          "output_type": "stream",
          "text": [
            "0.9691\n"
          ],
          "name": "stdout"
        }
      ]
    },
    {
      "cell_type": "markdown",
      "metadata": {
        "id": "fvglS8Z9e__c"
      },
      "source": [
        "Τρέχουμε τον classifier KNN για n=3 και τυπώνουμε accuracy."
      ]
    },
    {
      "cell_type": "code",
      "metadata": {
        "colab": {
          "base_uri": "https://localhost:8080/"
        },
        "id": "z-AcXNV6fFiq",
        "outputId": "9b85b431-1d83-4545-9692-35e6206cace9"
      },
      "source": [
        "model = KNeighborsClassifier(n_neighbors=3)\n",
        "model.fit(x_train, y_train)\n",
        "\n",
        "preds = model.predict(x_test)\n",
        "accuracy = accuracy_score(y_test, preds)\n",
        "print(accuracy)"
      ],
      "execution_count": null,
      "outputs": [
        {
          "output_type": "stream",
          "text": [
            "0.9695\n"
          ],
          "name": "stdout"
        }
      ]
    },
    {
      "cell_type": "markdown",
      "metadata": {
        "id": "YJzxd53LgJcH"
      },
      "source": [
        "Τρέχουμε τον classifier πλησιέστερου κέντρου και τυπώνουμε accuracy."
      ]
    },
    {
      "cell_type": "code",
      "metadata": {
        "id": "7DvlamDDgKzo"
      },
      "source": [
        "model = NearestCentroid()\n",
        "model.fit(x_train, y_train)\n",
        "\n",
        "preds = model.predict(x_test)\n",
        "accuracy = accuracy_score(y_test, preds)\n",
        "print(accuracy)"
      ],
      "execution_count": null,
      "outputs": []
    },
    {
      "cell_type": "markdown",
      "metadata": {
        "id": "nxg1zdOTn-A_"
      },
      "source": [
        "Στήνουμε το Νευρωνικό Δίκτυο."
      ]
    },
    {
      "cell_type": "code",
      "metadata": {
        "id": "175DQQ8EnJvi"
      },
      "source": [
        "model = Sequential()\n",
        "model.add(Dense(64, input_shape=(784,), activation='sigmoid'))\n",
        "model.add(Dense(units=10, activation='softmax'))\n",
        "\n",
        "sgd = SGD(lr=0.001)\n",
        "\n",
        "model.compile(loss= 'mean_squared_error', optimizer=sgd, metrics=['accuracy'])"
      ],
      "execution_count": null,
      "outputs": []
    },
    {
      "cell_type": "markdown",
      "metadata": {
        "id": "BMZYnrN2qAF7"
      },
      "source": [
        "Θα εκπαιδεύσουμε το Νευρωνικό Δίκτυο."
      ]
    },
    {
      "cell_type": "code",
      "metadata": {
        "id": "CS6xV3XXp_wp",
        "colab": {
          "base_uri": "https://localhost:8080/"
        },
        "outputId": "43e430d4-e94b-4bfa-d515-38ddee54e93b"
      },
      "source": [
        "model.fit(x=x_train, y=y_train, batch_size=64, epochs=50, verbose=2)"
      ],
      "execution_count": null,
      "outputs": [
        {
          "output_type": "stream",
          "text": [
            "Epoch 1/50\n",
            "938/938 - 1s - loss: 0.0945 - accuracy: 0.0992\n",
            "Epoch 2/50\n",
            "938/938 - 1s - loss: 0.0937 - accuracy: 0.0992\n",
            "Epoch 3/50\n",
            "938/938 - 1s - loss: 0.0932 - accuracy: 0.0992\n",
            "Epoch 4/50\n",
            "938/938 - 1s - loss: 0.0929 - accuracy: 0.0993\n",
            "Epoch 5/50\n",
            "938/938 - 1s - loss: 0.0926 - accuracy: 0.0997\n",
            "Epoch 6/50\n",
            "938/938 - 1s - loss: 0.0924 - accuracy: 0.1007\n",
            "Epoch 7/50\n",
            "938/938 - 1s - loss: 0.0922 - accuracy: 0.1022\n",
            "Epoch 8/50\n",
            "938/938 - 1s - loss: 0.0920 - accuracy: 0.1042\n",
            "Epoch 9/50\n",
            "938/938 - 1s - loss: 0.0918 - accuracy: 0.1073\n",
            "Epoch 10/50\n",
            "938/938 - 1s - loss: 0.0917 - accuracy: 0.1105\n",
            "Epoch 11/50\n",
            "938/938 - 1s - loss: 0.0915 - accuracy: 0.1143\n",
            "Epoch 12/50\n",
            "938/938 - 1s - loss: 0.0914 - accuracy: 0.1175\n",
            "Epoch 13/50\n",
            "938/938 - 1s - loss: 0.0913 - accuracy: 0.1209\n",
            "Epoch 14/50\n",
            "938/938 - 1s - loss: 0.0912 - accuracy: 0.1248\n",
            "Epoch 15/50\n",
            "938/938 - 1s - loss: 0.0911 - accuracy: 0.1280\n",
            "Epoch 16/50\n",
            "938/938 - 1s - loss: 0.0910 - accuracy: 0.1314\n",
            "Epoch 17/50\n",
            "938/938 - 1s - loss: 0.0909 - accuracy: 0.1342\n",
            "Epoch 18/50\n",
            "938/938 - 1s - loss: 0.0908 - accuracy: 0.1377\n",
            "Epoch 19/50\n",
            "938/938 - 1s - loss: 0.0907 - accuracy: 0.1403\n",
            "Epoch 20/50\n",
            "938/938 - 1s - loss: 0.0906 - accuracy: 0.1424\n",
            "Epoch 21/50\n",
            "938/938 - 1s - loss: 0.0905 - accuracy: 0.1449\n",
            "Epoch 22/50\n",
            "938/938 - 1s - loss: 0.0904 - accuracy: 0.1479\n",
            "Epoch 23/50\n",
            "938/938 - 1s - loss: 0.0903 - accuracy: 0.1505\n",
            "Epoch 24/50\n",
            "938/938 - 1s - loss: 0.0902 - accuracy: 0.1538\n",
            "Epoch 25/50\n",
            "938/938 - 1s - loss: 0.0902 - accuracy: 0.1577\n",
            "Epoch 26/50\n",
            "938/938 - 1s - loss: 0.0901 - accuracy: 0.1605\n",
            "Epoch 27/50\n",
            "938/938 - 1s - loss: 0.0900 - accuracy: 0.1634\n",
            "Epoch 28/50\n",
            "938/938 - 1s - loss: 0.0899 - accuracy: 0.1673\n",
            "Epoch 29/50\n",
            "938/938 - 1s - loss: 0.0898 - accuracy: 0.1707\n",
            "Epoch 30/50\n",
            "938/938 - 1s - loss: 0.0897 - accuracy: 0.1745\n",
            "Epoch 31/50\n",
            "938/938 - 1s - loss: 0.0897 - accuracy: 0.1781\n",
            "Epoch 32/50\n",
            "938/938 - 1s - loss: 0.0896 - accuracy: 0.1817\n",
            "Epoch 33/50\n",
            "938/938 - 1s - loss: 0.0895 - accuracy: 0.1858\n",
            "Epoch 34/50\n",
            "938/938 - 1s - loss: 0.0894 - accuracy: 0.1898\n",
            "Epoch 35/50\n",
            "938/938 - 1s - loss: 0.0894 - accuracy: 0.1940\n",
            "Epoch 36/50\n",
            "938/938 - 1s - loss: 0.0893 - accuracy: 0.1980\n",
            "Epoch 37/50\n",
            "938/938 - 1s - loss: 0.0892 - accuracy: 0.2014\n",
            "Epoch 38/50\n",
            "938/938 - 1s - loss: 0.0891 - accuracy: 0.2052\n",
            "Epoch 39/50\n",
            "938/938 - 1s - loss: 0.0890 - accuracy: 0.2092\n",
            "Epoch 40/50\n",
            "938/938 - 1s - loss: 0.0890 - accuracy: 0.2131\n",
            "Epoch 41/50\n",
            "938/938 - 1s - loss: 0.0889 - accuracy: 0.2176\n",
            "Epoch 42/50\n",
            "938/938 - 1s - loss: 0.0888 - accuracy: 0.2218\n",
            "Epoch 43/50\n",
            "938/938 - 1s - loss: 0.0887 - accuracy: 0.2261\n",
            "Epoch 44/50\n",
            "938/938 - 1s - loss: 0.0887 - accuracy: 0.2294\n",
            "Epoch 45/50\n",
            "938/938 - 1s - loss: 0.0886 - accuracy: 0.2339\n",
            "Epoch 46/50\n",
            "938/938 - 1s - loss: 0.0885 - accuracy: 0.2383\n",
            "Epoch 47/50\n",
            "938/938 - 1s - loss: 0.0884 - accuracy: 0.2426\n",
            "Epoch 48/50\n",
            "938/938 - 1s - loss: 0.0884 - accuracy: 0.2472\n",
            "Epoch 49/50\n",
            "938/938 - 1s - loss: 0.0883 - accuracy: 0.2525\n",
            "Epoch 50/50\n",
            "938/938 - 1s - loss: 0.0882 - accuracy: 0.2579\n"
          ],
          "name": "stdout"
        },
        {
          "output_type": "execute_result",
          "data": {
            "text/plain": [
              "<tensorflow.python.keras.callbacks.History at 0x7f070fc1a668>"
            ]
          },
          "metadata": {
            "tags": []
          },
          "execution_count": 8
        }
      ]
    },
    {
      "cell_type": "markdown",
      "metadata": {
        "id": "6qUWVLrkTk3c"
      },
      "source": [
        "Εκπαίδευση για άλλες 50 εποχές.\n"
      ]
    },
    {
      "cell_type": "code",
      "metadata": {
        "id": "S05djEme3Pdi",
        "colab": {
          "base_uri": "https://localhost:8080/"
        },
        "outputId": "7006be24-e8b9-401e-d72d-b78bca77c7cb"
      },
      "source": [
        "model.fit(x=x_train, y=y_train, batch_size=64, epochs=50, verbose=2)"
      ],
      "execution_count": null,
      "outputs": [
        {
          "output_type": "stream",
          "text": [
            "Epoch 1/50\n",
            "938/938 - 1s - loss: 0.0881 - accuracy: 0.2634\n",
            "Epoch 2/50\n",
            "938/938 - 1s - loss: 0.0881 - accuracy: 0.2687\n",
            "Epoch 3/50\n",
            "938/938 - 1s - loss: 0.0880 - accuracy: 0.2750\n",
            "Epoch 4/50\n",
            "938/938 - 1s - loss: 0.0879 - accuracy: 0.2816\n",
            "Epoch 5/50\n",
            "938/938 - 1s - loss: 0.0879 - accuracy: 0.2883\n",
            "Epoch 6/50\n",
            "938/938 - 1s - loss: 0.0878 - accuracy: 0.2952\n",
            "Epoch 7/50\n",
            "938/938 - 1s - loss: 0.0877 - accuracy: 0.3016\n",
            "Epoch 8/50\n",
            "938/938 - 1s - loss: 0.0876 - accuracy: 0.3079\n",
            "Epoch 9/50\n",
            "938/938 - 1s - loss: 0.0876 - accuracy: 0.3137\n",
            "Epoch 10/50\n",
            "938/938 - 1s - loss: 0.0875 - accuracy: 0.3206\n",
            "Epoch 11/50\n",
            "938/938 - 1s - loss: 0.0874 - accuracy: 0.3267\n",
            "Epoch 12/50\n",
            "938/938 - 1s - loss: 0.0874 - accuracy: 0.3331\n",
            "Epoch 13/50\n",
            "938/938 - 1s - loss: 0.0873 - accuracy: 0.3381\n",
            "Epoch 14/50\n",
            "938/938 - 1s - loss: 0.0872 - accuracy: 0.3432\n",
            "Epoch 15/50\n",
            "938/938 - 1s - loss: 0.0871 - accuracy: 0.3478\n",
            "Epoch 16/50\n",
            "938/938 - 1s - loss: 0.0871 - accuracy: 0.3525\n",
            "Epoch 17/50\n",
            "938/938 - 1s - loss: 0.0870 - accuracy: 0.3568\n",
            "Epoch 18/50\n",
            "938/938 - 1s - loss: 0.0869 - accuracy: 0.3603\n",
            "Epoch 19/50\n",
            "938/938 - 1s - loss: 0.0869 - accuracy: 0.3634\n",
            "Epoch 20/50\n",
            "938/938 - 1s - loss: 0.0868 - accuracy: 0.3657\n",
            "Epoch 21/50\n",
            "938/938 - 1s - loss: 0.0867 - accuracy: 0.3689\n",
            "Epoch 22/50\n",
            "938/938 - 1s - loss: 0.0867 - accuracy: 0.3724\n",
            "Epoch 23/50\n",
            "938/938 - 1s - loss: 0.0866 - accuracy: 0.3760\n",
            "Epoch 24/50\n",
            "938/938 - 1s - loss: 0.0865 - accuracy: 0.3796\n",
            "Epoch 25/50\n",
            "938/938 - 1s - loss: 0.0865 - accuracy: 0.3841\n",
            "Epoch 26/50\n",
            "938/938 - 1s - loss: 0.0864 - accuracy: 0.3895\n",
            "Epoch 27/50\n",
            "938/938 - 1s - loss: 0.0863 - accuracy: 0.3964\n",
            "Epoch 28/50\n",
            "938/938 - 1s - loss: 0.0862 - accuracy: 0.4036\n",
            "Epoch 29/50\n",
            "938/938 - 1s - loss: 0.0862 - accuracy: 0.4122\n",
            "Epoch 30/50\n",
            "938/938 - 1s - loss: 0.0861 - accuracy: 0.4205\n",
            "Epoch 31/50\n",
            "938/938 - 1s - loss: 0.0860 - accuracy: 0.4279\n",
            "Epoch 32/50\n",
            "938/938 - 1s - loss: 0.0860 - accuracy: 0.4347\n",
            "Epoch 33/50\n",
            "938/938 - 1s - loss: 0.0859 - accuracy: 0.4405\n",
            "Epoch 34/50\n",
            "938/938 - 1s - loss: 0.0858 - accuracy: 0.4447\n",
            "Epoch 35/50\n",
            "938/938 - 1s - loss: 0.0858 - accuracy: 0.4487\n",
            "Epoch 36/50\n",
            "938/938 - 1s - loss: 0.0857 - accuracy: 0.4520\n",
            "Epoch 37/50\n",
            "938/938 - 1s - loss: 0.0856 - accuracy: 0.4545\n",
            "Epoch 38/50\n",
            "938/938 - 1s - loss: 0.0856 - accuracy: 0.4559\n",
            "Epoch 39/50\n",
            "938/938 - 1s - loss: 0.0855 - accuracy: 0.4562\n",
            "Epoch 40/50\n",
            "938/938 - 1s - loss: 0.0854 - accuracy: 0.4573\n",
            "Epoch 41/50\n",
            "938/938 - 1s - loss: 0.0854 - accuracy: 0.4575\n",
            "Epoch 42/50\n",
            "938/938 - 1s - loss: 0.0853 - accuracy: 0.4564\n",
            "Epoch 43/50\n",
            "938/938 - 1s - loss: 0.0852 - accuracy: 0.4563\n",
            "Epoch 44/50\n",
            "938/938 - 1s - loss: 0.0851 - accuracy: 0.4553\n",
            "Epoch 45/50\n",
            "938/938 - 1s - loss: 0.0851 - accuracy: 0.4544\n",
            "Epoch 46/50\n",
            "938/938 - 1s - loss: 0.0850 - accuracy: 0.4530\n",
            "Epoch 47/50\n",
            "938/938 - 1s - loss: 0.0849 - accuracy: 0.4525\n",
            "Epoch 48/50\n",
            "938/938 - 1s - loss: 0.0849 - accuracy: 0.4514\n",
            "Epoch 49/50\n",
            "938/938 - 1s - loss: 0.0848 - accuracy: 0.4507\n",
            "Epoch 50/50\n",
            "938/938 - 1s - loss: 0.0847 - accuracy: 0.4494\n"
          ],
          "name": "stdout"
        },
        {
          "output_type": "execute_result",
          "data": {
            "text/plain": [
              "<tensorflow.python.keras.callbacks.History at 0x7f070d5926d8>"
            ]
          },
          "metadata": {
            "tags": []
          },
          "execution_count": 9
        }
      ]
    },
    {
      "cell_type": "markdown",
      "metadata": {
        "id": "hkLfgqfpEvQp"
      },
      "source": [
        "Αξιολόγηση."
      ]
    },
    {
      "cell_type": "code",
      "metadata": {
        "id": "QUrm_y6w3xed",
        "colab": {
          "base_uri": "https://localhost:8080/"
        },
        "outputId": "bc8edc05-be77-46ca-dc4d-4307e993784f"
      },
      "source": [
        "print('Train accuracy:', model.evaluate(x_train,y_train, batch_size=64))\n",
        "print('Test accuracy:', model.evaluate(x_test,y_test, batch_size=64))\n",
        "\n",
        "y_pred = model.predict(x_test)\n",
        "y_pred_classes = np.argmax(y_pred, axis=1)\n",
        "print(y_pred)\n",
        "print(y_pred_classes)\n",
        "\n",
        "y_pred = model.predict(x_train)\n",
        "print(y_pred[0], np.argmax(y_pred[0]))"
      ],
      "execution_count": null,
      "outputs": [
        {
          "output_type": "stream",
          "text": [
            "938/938 [==============================] - 1s 1ms/step - loss: 0.0847 - accuracy: 0.4487\n",
            "Train accuracy: [0.0846811905503273, 0.44874998927116394]\n",
            "157/157 [==============================] - 0s 1ms/step - loss: 0.0845 - accuracy: 0.4698\n",
            "Test accuracy: [0.08452263474464417, 0.4697999954223633]\n",
            "[[0.100535   0.11834761 0.08643265 ... 0.14587772 0.08414117 0.10263642]\n",
            " [0.1036663  0.12465599 0.14154965 ... 0.10521978 0.0907284  0.06006595]\n",
            " [0.07839938 0.14581019 0.09441604 ... 0.12234196 0.08026733 0.10905214]\n",
            " ...\n",
            " [0.09055601 0.11930146 0.07462403 ... 0.11668574 0.08824724 0.1098386 ]\n",
            " [0.10782763 0.11270901 0.10348586 ... 0.11898185 0.10772541 0.07370284]\n",
            " [0.18358822 0.0841886  0.10191098 ... 0.06398689 0.08957966 0.09662915]]\n",
            "[7 2 1 ... 4 7 0]\n",
            "[0.14639413 0.10051658 0.08741454 0.10331482 0.08260627 0.09389981\n",
            " 0.08990829 0.11344574 0.09843311 0.0840667 ] 0\n"
          ],
          "name": "stdout"
        }
      ]
    },
    {
      "cell_type": "markdown",
      "metadata": {
        "id": "Rma3zlB9EpsR"
      },
      "source": [
        "Αλλαγή MSE σε CrossEntropy.\n"
      ]
    },
    {
      "cell_type": "code",
      "metadata": {
        "id": "vVdH-YJC47dg"
      },
      "source": [
        "model = Sequential()\n",
        "model.add(Dense(64, input_shape=(784,), activation='sigmoid'))\n",
        "model.add(Dense(units=10, activation='softmax'))\n",
        "\n",
        "sgd = SGD(lr=0.001)\n",
        "\n",
        "model.compile(loss= 'categorical_crossentropy', optimizer=sgd, metrics=['accuracy'])"
      ],
      "execution_count": null,
      "outputs": []
    },
    {
      "cell_type": "markdown",
      "metadata": {
        "id": "sDl9toXgTtCE"
      },
      "source": [
        "Εκπαίδευση του Νευρωνικού δικτύου με τη νέα loss function."
      ]
    },
    {
      "cell_type": "code",
      "metadata": {
        "id": "z0c93vFrGvUt",
        "colab": {
          "base_uri": "https://localhost:8080/"
        },
        "outputId": "e86bb493-7bda-48b4-9380-054fef2b4a04"
      },
      "source": [
        "model.fit(x=x_train, y=y_train, batch_size=64, epochs=50, verbose=2)"
      ],
      "execution_count": null,
      "outputs": [
        {
          "output_type": "stream",
          "text": [
            "Epoch 1/50\n",
            "938/938 - 1s - loss: 2.2777 - accuracy: 0.1968\n",
            "Epoch 2/50\n",
            "938/938 - 1s - loss: 2.1511 - accuracy: 0.4122\n",
            "Epoch 3/50\n",
            "938/938 - 1s - loss: 2.0552 - accuracy: 0.5149\n",
            "Epoch 4/50\n",
            "938/938 - 1s - loss: 1.9640 - accuracy: 0.5715\n",
            "Epoch 5/50\n",
            "938/938 - 1s - loss: 1.8763 - accuracy: 0.6137\n",
            "Epoch 6/50\n",
            "938/938 - 1s - loss: 1.7917 - accuracy: 0.6418\n",
            "Epoch 7/50\n",
            "938/938 - 1s - loss: 1.7103 - accuracy: 0.6668\n",
            "Epoch 8/50\n",
            "938/938 - 1s - loss: 1.6324 - accuracy: 0.6876\n",
            "Epoch 9/50\n",
            "938/938 - 1s - loss: 1.5583 - accuracy: 0.7033\n",
            "Epoch 10/50\n",
            "938/938 - 1s - loss: 1.4881 - accuracy: 0.7179\n",
            "Epoch 11/50\n",
            "938/938 - 1s - loss: 1.4221 - accuracy: 0.7325\n",
            "Epoch 12/50\n",
            "938/938 - 1s - loss: 1.3602 - accuracy: 0.7442\n",
            "Epoch 13/50\n",
            "938/938 - 1s - loss: 1.3024 - accuracy: 0.7541\n",
            "Epoch 14/50\n",
            "938/938 - 1s - loss: 1.2486 - accuracy: 0.7640\n",
            "Epoch 15/50\n",
            "938/938 - 1s - loss: 1.1986 - accuracy: 0.7709\n",
            "Epoch 16/50\n",
            "938/938 - 1s - loss: 1.1523 - accuracy: 0.7779\n",
            "Epoch 17/50\n",
            "938/938 - 1s - loss: 1.1095 - accuracy: 0.7860\n",
            "Epoch 18/50\n",
            "938/938 - 1s - loss: 1.0698 - accuracy: 0.7914\n",
            "Epoch 19/50\n",
            "938/938 - 1s - loss: 1.0332 - accuracy: 0.7980\n",
            "Epoch 20/50\n",
            "938/938 - 1s - loss: 0.9992 - accuracy: 0.8017\n",
            "Epoch 21/50\n",
            "938/938 - 1s - loss: 0.9678 - accuracy: 0.8070\n",
            "Epoch 22/50\n",
            "938/938 - 1s - loss: 0.9386 - accuracy: 0.8113\n",
            "Epoch 23/50\n",
            "938/938 - 1s - loss: 0.9115 - accuracy: 0.8150\n",
            "Epoch 24/50\n",
            "938/938 - 1s - loss: 0.8864 - accuracy: 0.8188\n",
            "Epoch 25/50\n",
            "938/938 - 1s - loss: 0.8630 - accuracy: 0.8221\n",
            "Epoch 26/50\n",
            "938/938 - 1s - loss: 0.8411 - accuracy: 0.8255\n",
            "Epoch 27/50\n",
            "938/938 - 1s - loss: 0.8207 - accuracy: 0.8286\n",
            "Epoch 28/50\n",
            "938/938 - 1s - loss: 0.8016 - accuracy: 0.8314\n",
            "Epoch 29/50\n",
            "938/938 - 1s - loss: 0.7837 - accuracy: 0.8343\n",
            "Epoch 30/50\n",
            "938/938 - 1s - loss: 0.7669 - accuracy: 0.8365\n",
            "Epoch 31/50\n",
            "938/938 - 1s - loss: 0.7511 - accuracy: 0.8388\n",
            "Epoch 32/50\n",
            "938/938 - 1s - loss: 0.7362 - accuracy: 0.8407\n",
            "Epoch 33/50\n",
            "938/938 - 1s - loss: 0.7222 - accuracy: 0.8430\n",
            "Epoch 34/50\n",
            "938/938 - 1s - loss: 0.7089 - accuracy: 0.8451\n",
            "Epoch 35/50\n",
            "938/938 - 1s - loss: 0.6963 - accuracy: 0.8471\n",
            "Epoch 36/50\n",
            "938/938 - 1s - loss: 0.6844 - accuracy: 0.8490\n",
            "Epoch 37/50\n",
            "938/938 - 1s - loss: 0.6731 - accuracy: 0.8506\n",
            "Epoch 38/50\n",
            "938/938 - 1s - loss: 0.6624 - accuracy: 0.8523\n",
            "Epoch 39/50\n",
            "938/938 - 1s - loss: 0.6522 - accuracy: 0.8537\n",
            "Epoch 40/50\n",
            "938/938 - 1s - loss: 0.6425 - accuracy: 0.8552\n",
            "Epoch 41/50\n",
            "938/938 - 1s - loss: 0.6332 - accuracy: 0.8566\n",
            "Epoch 42/50\n",
            "938/938 - 1s - loss: 0.6243 - accuracy: 0.8580\n",
            "Epoch 43/50\n",
            "938/938 - 1s - loss: 0.6159 - accuracy: 0.8593\n",
            "Epoch 44/50\n",
            "938/938 - 1s - loss: 0.6078 - accuracy: 0.8609\n",
            "Epoch 45/50\n",
            "938/938 - 1s - loss: 0.6000 - accuracy: 0.8619\n",
            "Epoch 46/50\n",
            "938/938 - 1s - loss: 0.5926 - accuracy: 0.8632\n",
            "Epoch 47/50\n",
            "938/938 - 1s - loss: 0.5855 - accuracy: 0.8642\n",
            "Epoch 48/50\n",
            "938/938 - 1s - loss: 0.5787 - accuracy: 0.8652\n",
            "Epoch 49/50\n",
            "938/938 - 1s - loss: 0.5721 - accuracy: 0.8661\n",
            "Epoch 50/50\n",
            "938/938 - 1s - loss: 0.5658 - accuracy: 0.8672\n"
          ],
          "name": "stdout"
        },
        {
          "output_type": "execute_result",
          "data": {
            "text/plain": [
              "<tensorflow.python.keras.callbacks.History at 0x7f91846ffe48>"
            ]
          },
          "metadata": {
            "tags": []
          },
          "execution_count": 8
        }
      ]
    },
    {
      "cell_type": "markdown",
      "metadata": {
        "id": "DYM1upwq51Nw"
      },
      "source": [
        "Εκπαίδευση για άλλες 50 εποχές."
      ]
    },
    {
      "cell_type": "code",
      "metadata": {
        "colab": {
          "base_uri": "https://localhost:8080/"
        },
        "id": "I4VDlWpw52Tt",
        "outputId": "326acfb7-8155-41cb-ca0f-ffc613d0dcc1"
      },
      "source": [
        "model.fit(x=x_train, y=y_train, batch_size=64, epochs=50, verbose=2)"
      ],
      "execution_count": null,
      "outputs": [
        {
          "output_type": "stream",
          "text": [
            "Epoch 1/50\n",
            "938/938 - 1s - loss: 0.5597 - accuracy: 0.8681\n",
            "Epoch 2/50\n",
            "938/938 - 1s - loss: 0.5538 - accuracy: 0.8691\n",
            "Epoch 3/50\n",
            "938/938 - 1s - loss: 0.5482 - accuracy: 0.8700\n",
            "Epoch 4/50\n",
            "938/938 - 1s - loss: 0.5427 - accuracy: 0.8708\n",
            "Epoch 5/50\n",
            "938/938 - 1s - loss: 0.5375 - accuracy: 0.8715\n",
            "Epoch 6/50\n",
            "938/938 - 1s - loss: 0.5324 - accuracy: 0.8724\n",
            "Epoch 7/50\n",
            "938/938 - 1s - loss: 0.5275 - accuracy: 0.8733\n",
            "Epoch 8/50\n",
            "938/938 - 1s - loss: 0.5228 - accuracy: 0.8742\n",
            "Epoch 9/50\n",
            "938/938 - 1s - loss: 0.5182 - accuracy: 0.8750\n",
            "Epoch 10/50\n",
            "938/938 - 1s - loss: 0.5138 - accuracy: 0.8759\n",
            "Epoch 11/50\n",
            "938/938 - 1s - loss: 0.5095 - accuracy: 0.8764\n",
            "Epoch 12/50\n",
            "938/938 - 1s - loss: 0.5053 - accuracy: 0.8769\n",
            "Epoch 13/50\n",
            "938/938 - 1s - loss: 0.5013 - accuracy: 0.8775\n",
            "Epoch 14/50\n",
            "938/938 - 1s - loss: 0.4974 - accuracy: 0.8779\n",
            "Epoch 15/50\n",
            "938/938 - 1s - loss: 0.4936 - accuracy: 0.8787\n",
            "Epoch 16/50\n",
            "938/938 - 1s - loss: 0.4900 - accuracy: 0.8793\n",
            "Epoch 17/50\n",
            "938/938 - 1s - loss: 0.4864 - accuracy: 0.8797\n",
            "Epoch 18/50\n",
            "938/938 - 1s - loss: 0.4829 - accuracy: 0.8803\n",
            "Epoch 19/50\n",
            "938/938 - 1s - loss: 0.4796 - accuracy: 0.8808\n",
            "Epoch 20/50\n",
            "938/938 - 1s - loss: 0.4763 - accuracy: 0.8811\n",
            "Epoch 21/50\n",
            "938/938 - 1s - loss: 0.4731 - accuracy: 0.8818\n",
            "Epoch 22/50\n",
            "938/938 - 1s - loss: 0.4700 - accuracy: 0.8823\n",
            "Epoch 23/50\n",
            "938/938 - 1s - loss: 0.4670 - accuracy: 0.8825\n",
            "Epoch 24/50\n",
            "938/938 - 1s - loss: 0.4641 - accuracy: 0.8831\n",
            "Epoch 25/50\n",
            "938/938 - 1s - loss: 0.4612 - accuracy: 0.8834\n",
            "Epoch 26/50\n",
            "938/938 - 1s - loss: 0.4584 - accuracy: 0.8841\n",
            "Epoch 27/50\n",
            "938/938 - 1s - loss: 0.4557 - accuracy: 0.8844\n",
            "Epoch 28/50\n",
            "938/938 - 1s - loss: 0.4531 - accuracy: 0.8850\n",
            "Epoch 29/50\n",
            "938/938 - 1s - loss: 0.4505 - accuracy: 0.8854\n",
            "Epoch 30/50\n",
            "938/938 - 1s - loss: 0.4480 - accuracy: 0.8856\n",
            "Epoch 31/50\n",
            "938/938 - 1s - loss: 0.4455 - accuracy: 0.8862\n",
            "Epoch 32/50\n",
            "938/938 - 1s - loss: 0.4431 - accuracy: 0.8867\n",
            "Epoch 33/50\n",
            "938/938 - 1s - loss: 0.4408 - accuracy: 0.8869\n",
            "Epoch 34/50\n",
            "938/938 - 1s - loss: 0.4385 - accuracy: 0.8876\n",
            "Epoch 35/50\n",
            "938/938 - 1s - loss: 0.4363 - accuracy: 0.8879\n",
            "Epoch 36/50\n",
            "938/938 - 1s - loss: 0.4341 - accuracy: 0.8883\n",
            "Epoch 37/50\n",
            "938/938 - 1s - loss: 0.4320 - accuracy: 0.8886\n",
            "Epoch 38/50\n",
            "938/938 - 1s - loss: 0.4299 - accuracy: 0.8888\n",
            "Epoch 39/50\n",
            "938/938 - 1s - loss: 0.4278 - accuracy: 0.8892\n",
            "Epoch 40/50\n",
            "938/938 - 1s - loss: 0.4258 - accuracy: 0.8894\n",
            "Epoch 41/50\n",
            "938/938 - 1s - loss: 0.4239 - accuracy: 0.8896\n",
            "Epoch 42/50\n",
            "938/938 - 1s - loss: 0.4220 - accuracy: 0.8900\n",
            "Epoch 43/50\n",
            "938/938 - 1s - loss: 0.4201 - accuracy: 0.8902\n",
            "Epoch 44/50\n",
            "938/938 - 1s - loss: 0.4182 - accuracy: 0.8908\n",
            "Epoch 45/50\n",
            "938/938 - 1s - loss: 0.4164 - accuracy: 0.8910\n",
            "Epoch 46/50\n",
            "938/938 - 1s - loss: 0.4147 - accuracy: 0.8912\n",
            "Epoch 47/50\n",
            "938/938 - 1s - loss: 0.4130 - accuracy: 0.8916\n",
            "Epoch 48/50\n",
            "938/938 - 1s - loss: 0.4113 - accuracy: 0.8918\n",
            "Epoch 49/50\n",
            "938/938 - 1s - loss: 0.4096 - accuracy: 0.8924\n",
            "Epoch 50/50\n",
            "938/938 - 1s - loss: 0.4080 - accuracy: 0.8924\n"
          ],
          "name": "stdout"
        },
        {
          "output_type": "execute_result",
          "data": {
            "text/plain": [
              "<tensorflow.python.keras.callbacks.History at 0x7f91820851d0>"
            ]
          },
          "metadata": {
            "tags": []
          },
          "execution_count": 9
        }
      ]
    },
    {
      "cell_type": "markdown",
      "metadata": {
        "id": "dh--0ACnG6dG"
      },
      "source": [
        "Αξιολόγηση.\n",
        "\n",
        "\n",
        "\n"
      ]
    },
    {
      "cell_type": "code",
      "metadata": {
        "id": "W1QYlGH4GwGb",
        "colab": {
          "base_uri": "https://localhost:8080/"
        },
        "outputId": "252c722a-0be3-4edd-8c2c-cebcaf97b49a"
      },
      "source": [
        "print('Train accuracy:', model.evaluate(x_train,y_train, batch_size=64))\n",
        "print('Test accuracy:', model.evaluate(x_test,y_test, batch_size=64))\n",
        "\n",
        "y_pred = model.predict(x_test)\n",
        "y_pred_classes = np.argmax(y_pred, axis=1)\n",
        "print(y_pred)\n",
        "print(y_pred_classes)\n",
        "\n",
        "y_pred = model.predict(x_train)\n",
        "print(y_pred[0], np.argmax(y_pred[0]))"
      ],
      "execution_count": null,
      "outputs": [
        {
          "output_type": "stream",
          "text": [
            "938/938 [==============================] - 1s 1ms/step - loss: 0.4071 - accuracy: 0.8927\n",
            "Train accuracy: [0.40710240602493286, 0.8926666378974915]\n",
            "157/157 [==============================] - 0s 1ms/step - loss: 0.3911 - accuracy: 0.8986\n",
            "Test accuracy: [0.39107659459114075, 0.8985999822616577]\n",
            "[[4.0076129e-04 5.3409061e-05 5.9422996e-04 ... 9.8505986e-01\n",
            "  3.2263985e-04 1.0135665e-02]\n",
            " [7.7361211e-02 4.0720254e-03 6.5550941e-01 ... 1.0582840e-04\n",
            "  1.8237000e-02 1.3497581e-04]\n",
            " [1.3060213e-04 9.3410867e-01 2.1419043e-02 ... 6.7914086e-03\n",
            "  1.0696293e-02 2.7631901e-03]\n",
            " ...\n",
            " [4.4817454e-05 8.7517442e-04 4.5842197e-04 ... 1.4776316e-02\n",
            "  2.9511306e-02 1.9402395e-01]\n",
            " [1.5071713e-02 1.9912317e-02 4.7496213e-03 ... 6.1636888e-03\n",
            "  3.3770427e-01 3.9706128e-03]\n",
            " [7.9912106e-03 1.9098377e-05 1.0935625e-02 ... 1.4211332e-05\n",
            "  3.7392773e-04 8.7944660e-05]]\n",
            "[7 2 1 ... 4 5 6]\n",
            "[4.1645385e-02 2.4832143e-03 1.0554632e-02 3.7121600e-01 1.9602335e-04\n",
            " 5.3218019e-01 4.4692424e-03 1.7009418e-02 1.5491673e-02 4.7542593e-03] 5\n"
          ],
          "name": "stdout"
        }
      ]
    },
    {
      "cell_type": "markdown",
      "metadata": {
        "id": "wRt2zuNgN3xq"
      },
      "source": [
        "Εκπαιδεύουμε για άλλες 50 εποχές."
      ]
    },
    {
      "cell_type": "code",
      "metadata": {
        "colab": {
          "base_uri": "https://localhost:8080/"
        },
        "id": "rB__AXaA1TGA",
        "outputId": "13743f22-2154-47a7-a61b-b8d9d224a227"
      },
      "source": [
        "model.fit(x=x_train, y=y_train, batch_size=64, epochs=50, verbose=2)"
      ],
      "execution_count": null,
      "outputs": [
        {
          "output_type": "stream",
          "text": [
            "Epoch 1/50\n",
            "938/938 - 1s - loss: 0.4064 - accuracy: 0.8929\n",
            "Epoch 2/50\n",
            "938/938 - 1s - loss: 0.4048 - accuracy: 0.8932\n",
            "Epoch 3/50\n",
            "938/938 - 1s - loss: 0.4033 - accuracy: 0.8934\n",
            "Epoch 4/50\n",
            "938/938 - 1s - loss: 0.4018 - accuracy: 0.8937\n",
            "Epoch 5/50\n",
            "938/938 - 1s - loss: 0.4003 - accuracy: 0.8941\n",
            "Epoch 6/50\n",
            "938/938 - 1s - loss: 0.3988 - accuracy: 0.8942\n",
            "Epoch 7/50\n",
            "938/938 - 1s - loss: 0.3974 - accuracy: 0.8945\n",
            "Epoch 8/50\n",
            "938/938 - 1s - loss: 0.3960 - accuracy: 0.8948\n",
            "Epoch 9/50\n",
            "938/938 - 1s - loss: 0.3946 - accuracy: 0.8951\n",
            "Epoch 10/50\n",
            "938/938 - 1s - loss: 0.3932 - accuracy: 0.8954\n",
            "Epoch 11/50\n",
            "938/938 - 1s - loss: 0.3919 - accuracy: 0.8956\n",
            "Epoch 12/50\n",
            "938/938 - 1s - loss: 0.3906 - accuracy: 0.8958\n",
            "Epoch 13/50\n",
            "938/938 - 1s - loss: 0.3893 - accuracy: 0.8960\n",
            "Epoch 14/50\n",
            "938/938 - 1s - loss: 0.3880 - accuracy: 0.8962\n",
            "Epoch 15/50\n",
            "938/938 - 1s - loss: 0.3868 - accuracy: 0.8965\n",
            "Epoch 16/50\n",
            "938/938 - 1s - loss: 0.3855 - accuracy: 0.8966\n",
            "Epoch 17/50\n",
            "938/938 - 1s - loss: 0.3843 - accuracy: 0.8970\n",
            "Epoch 18/50\n",
            "938/938 - 1s - loss: 0.3831 - accuracy: 0.8972\n",
            "Epoch 19/50\n",
            "938/938 - 1s - loss: 0.3820 - accuracy: 0.8972\n",
            "Epoch 20/50\n",
            "938/938 - 1s - loss: 0.3808 - accuracy: 0.8975\n",
            "Epoch 21/50\n",
            "938/938 - 1s - loss: 0.3797 - accuracy: 0.8975\n",
            "Epoch 22/50\n",
            "938/938 - 1s - loss: 0.3785 - accuracy: 0.8979\n",
            "Epoch 23/50\n",
            "938/938 - 1s - loss: 0.3774 - accuracy: 0.8980\n",
            "Epoch 24/50\n",
            "938/938 - 1s - loss: 0.3763 - accuracy: 0.8982\n",
            "Epoch 25/50\n",
            "938/938 - 1s - loss: 0.3753 - accuracy: 0.8983\n",
            "Epoch 26/50\n",
            "938/938 - 1s - loss: 0.3742 - accuracy: 0.8986\n",
            "Epoch 27/50\n",
            "938/938 - 1s - loss: 0.3732 - accuracy: 0.8985\n",
            "Epoch 28/50\n",
            "938/938 - 1s - loss: 0.3721 - accuracy: 0.8989\n",
            "Epoch 29/50\n",
            "938/938 - 1s - loss: 0.3711 - accuracy: 0.8991\n",
            "Epoch 30/50\n",
            "938/938 - 1s - loss: 0.3701 - accuracy: 0.8994\n",
            "Epoch 31/50\n",
            "938/938 - 1s - loss: 0.3691 - accuracy: 0.8996\n",
            "Epoch 32/50\n",
            "938/938 - 1s - loss: 0.3682 - accuracy: 0.8998\n",
            "Epoch 33/50\n",
            "938/938 - 1s - loss: 0.3672 - accuracy: 0.8999\n",
            "Epoch 34/50\n",
            "938/938 - 1s - loss: 0.3663 - accuracy: 0.9000\n",
            "Epoch 35/50\n",
            "938/938 - 1s - loss: 0.3653 - accuracy: 0.9003\n",
            "Epoch 36/50\n",
            "938/938 - 1s - loss: 0.3644 - accuracy: 0.9005\n",
            "Epoch 37/50\n",
            "938/938 - 1s - loss: 0.3635 - accuracy: 0.9007\n",
            "Epoch 38/50\n",
            "938/938 - 1s - loss: 0.3626 - accuracy: 0.9008\n",
            "Epoch 39/50\n",
            "938/938 - 1s - loss: 0.3617 - accuracy: 0.9008\n",
            "Epoch 40/50\n",
            "938/938 - 1s - loss: 0.3608 - accuracy: 0.9011\n",
            "Epoch 41/50\n",
            "938/938 - 1s - loss: 0.3600 - accuracy: 0.9013\n",
            "Epoch 42/50\n",
            "938/938 - 1s - loss: 0.3591 - accuracy: 0.9015\n",
            "Epoch 43/50\n",
            "938/938 - 1s - loss: 0.3583 - accuracy: 0.9015\n",
            "Epoch 44/50\n",
            "938/938 - 1s - loss: 0.3574 - accuracy: 0.9019\n",
            "Epoch 45/50\n",
            "938/938 - 1s - loss: 0.3566 - accuracy: 0.9020\n",
            "Epoch 46/50\n",
            "938/938 - 1s - loss: 0.3558 - accuracy: 0.9021\n",
            "Epoch 47/50\n",
            "938/938 - 1s - loss: 0.3550 - accuracy: 0.9024\n",
            "Epoch 48/50\n",
            "938/938 - 1s - loss: 0.3542 - accuracy: 0.9026\n",
            "Epoch 49/50\n",
            "938/938 - 1s - loss: 0.3534 - accuracy: 0.9027\n",
            "Epoch 50/50\n",
            "938/938 - 1s - loss: 0.3526 - accuracy: 0.9029\n"
          ],
          "name": "stdout"
        },
        {
          "output_type": "execute_result",
          "data": {
            "text/plain": [
              "<tensorflow.python.keras.callbacks.History at 0x7f918208fe48>"
            ]
          },
          "metadata": {
            "tags": []
          },
          "execution_count": 11
        }
      ]
    },
    {
      "cell_type": "markdown",
      "metadata": {
        "id": "8DQ-vp81eBDb"
      },
      "source": [
        "Εκπαίδευση για άλλες50 εποχές με μείωση του batch size σε 32."
      ]
    },
    {
      "cell_type": "code",
      "metadata": {
        "colab": {
          "base_uri": "https://localhost:8080/"
        },
        "id": "Hx0YEjVD2dyi",
        "outputId": "e77d7047-8072-4b1f-9725-fbb97ba9d6f3"
      },
      "source": [
        "model.fit(x=x_train, y=y_train, batch_size=32, epochs=50, verbose=2)"
      ],
      "execution_count": null,
      "outputs": [
        {
          "output_type": "stream",
          "text": [
            "Epoch 1/50\n",
            "1875/1875 - 3s - loss: 0.3515 - accuracy: 0.9032\n",
            "Epoch 2/50\n",
            "1875/1875 - 3s - loss: 0.3500 - accuracy: 0.9033\n",
            "Epoch 3/50\n",
            "1875/1875 - 3s - loss: 0.3485 - accuracy: 0.9038\n",
            "Epoch 4/50\n",
            "1875/1875 - 3s - loss: 0.3471 - accuracy: 0.9042\n",
            "Epoch 5/50\n",
            "1875/1875 - 3s - loss: 0.3457 - accuracy: 0.9045\n",
            "Epoch 6/50\n",
            "1875/1875 - 3s - loss: 0.3443 - accuracy: 0.9046\n",
            "Epoch 7/50\n",
            "1875/1875 - 3s - loss: 0.3429 - accuracy: 0.9052\n",
            "Epoch 8/50\n",
            "1875/1875 - 3s - loss: 0.3416 - accuracy: 0.9054\n",
            "Epoch 9/50\n",
            "1875/1875 - 3s - loss: 0.3403 - accuracy: 0.9057\n",
            "Epoch 10/50\n",
            "1875/1875 - 3s - loss: 0.3390 - accuracy: 0.9060\n",
            "Epoch 11/50\n",
            "1875/1875 - 3s - loss: 0.3377 - accuracy: 0.9063\n",
            "Epoch 12/50\n",
            "1875/1875 - 3s - loss: 0.3365 - accuracy: 0.9066\n",
            "Epoch 13/50\n",
            "1875/1875 - 3s - loss: 0.3353 - accuracy: 0.9067\n",
            "Epoch 14/50\n",
            "1875/1875 - 3s - loss: 0.3341 - accuracy: 0.9069\n",
            "Epoch 15/50\n",
            "1875/1875 - 3s - loss: 0.3329 - accuracy: 0.9071\n",
            "Epoch 16/50\n",
            "1875/1875 - 3s - loss: 0.3318 - accuracy: 0.9074\n",
            "Epoch 17/50\n",
            "1875/1875 - 3s - loss: 0.3306 - accuracy: 0.9076\n",
            "Epoch 18/50\n",
            "1875/1875 - 3s - loss: 0.3295 - accuracy: 0.9078\n",
            "Epoch 19/50\n",
            "1875/1875 - 3s - loss: 0.3284 - accuracy: 0.9080\n",
            "Epoch 20/50\n",
            "1875/1875 - 3s - loss: 0.3273 - accuracy: 0.9084\n",
            "Epoch 21/50\n",
            "1875/1875 - 3s - loss: 0.3263 - accuracy: 0.9085\n",
            "Epoch 22/50\n",
            "1875/1875 - 3s - loss: 0.3252 - accuracy: 0.9089\n",
            "Epoch 23/50\n",
            "1875/1875 - 3s - loss: 0.3242 - accuracy: 0.9090\n",
            "Epoch 24/50\n",
            "1875/1875 - 3s - loss: 0.3232 - accuracy: 0.9094\n",
            "Epoch 25/50\n",
            "1875/1875 - 3s - loss: 0.3222 - accuracy: 0.9096\n",
            "Epoch 26/50\n",
            "1875/1875 - 3s - loss: 0.3212 - accuracy: 0.9097\n",
            "Epoch 27/50\n",
            "1875/1875 - 3s - loss: 0.3203 - accuracy: 0.9102\n",
            "Epoch 28/50\n",
            "1875/1875 - 3s - loss: 0.3193 - accuracy: 0.9103\n",
            "Epoch 29/50\n",
            "1875/1875 - 3s - loss: 0.3183 - accuracy: 0.9107\n",
            "Epoch 30/50\n",
            "1875/1875 - 3s - loss: 0.3174 - accuracy: 0.9108\n",
            "Epoch 31/50\n",
            "1875/1875 - 3s - loss: 0.3165 - accuracy: 0.9112\n",
            "Epoch 32/50\n",
            "1875/1875 - 3s - loss: 0.3156 - accuracy: 0.9112\n",
            "Epoch 33/50\n",
            "1875/1875 - 3s - loss: 0.3147 - accuracy: 0.9113\n",
            "Epoch 34/50\n",
            "1875/1875 - 3s - loss: 0.3138 - accuracy: 0.9116\n",
            "Epoch 35/50\n",
            "1875/1875 - 3s - loss: 0.3129 - accuracy: 0.9118\n",
            "Epoch 36/50\n",
            "1875/1875 - 3s - loss: 0.3121 - accuracy: 0.9121\n",
            "Epoch 37/50\n",
            "1875/1875 - 3s - loss: 0.3112 - accuracy: 0.9122\n",
            "Epoch 38/50\n",
            "1875/1875 - 3s - loss: 0.3104 - accuracy: 0.9125\n",
            "Epoch 39/50\n",
            "1875/1875 - 3s - loss: 0.3095 - accuracy: 0.9126\n",
            "Epoch 40/50\n",
            "1875/1875 - 3s - loss: 0.3087 - accuracy: 0.9131\n",
            "Epoch 41/50\n",
            "1875/1875 - 3s - loss: 0.3079 - accuracy: 0.9131\n",
            "Epoch 42/50\n",
            "1875/1875 - 3s - loss: 0.3071 - accuracy: 0.9131\n",
            "Epoch 43/50\n",
            "1875/1875 - 3s - loss: 0.3063 - accuracy: 0.9135\n",
            "Epoch 44/50\n",
            "1875/1875 - 3s - loss: 0.3055 - accuracy: 0.9136\n",
            "Epoch 45/50\n",
            "1875/1875 - 3s - loss: 0.3047 - accuracy: 0.9139\n",
            "Epoch 46/50\n",
            "1875/1875 - 3s - loss: 0.3040 - accuracy: 0.9141\n",
            "Epoch 47/50\n",
            "1875/1875 - 3s - loss: 0.3032 - accuracy: 0.9143\n",
            "Epoch 48/50\n",
            "1875/1875 - 3s - loss: 0.3025 - accuracy: 0.9147\n",
            "Epoch 49/50\n",
            "1875/1875 - 3s - loss: 0.3017 - accuracy: 0.9149\n",
            "Epoch 50/50\n",
            "1875/1875 - 3s - loss: 0.3010 - accuracy: 0.9152\n"
          ],
          "name": "stdout"
        },
        {
          "output_type": "execute_result",
          "data": {
            "text/plain": [
              "<tensorflow.python.keras.callbacks.History at 0x7f918207c9e8>"
            ]
          },
          "metadata": {
            "tags": []
          },
          "execution_count": 12
        }
      ]
    },
    {
      "cell_type": "markdown",
      "metadata": {
        "id": "UAbaJ72qe7H4"
      },
      "source": [
        "Αξιολόγηση."
      ]
    },
    {
      "cell_type": "code",
      "metadata": {
        "colab": {
          "base_uri": "https://localhost:8080/"
        },
        "id": "ZEF0gZrVe9XL",
        "outputId": "c0b55c4d-4d6d-4ed8-cef7-f0c8f1d0db62"
      },
      "source": [
        "y_pred = model.predict(x_train)\n",
        "print(y_pred[0], np.argmax(y_pred[0]))"
      ],
      "execution_count": null,
      "outputs": [
        {
          "output_type": "stream",
          "text": [
            "[2.0018326e-02 5.9802679e-04 6.6906079e-03 2.8723791e-01 2.3879747e-05\n",
            " 6.6897213e-01 1.2331415e-03 7.9080667e-03 5.0558727e-03 2.2620752e-03] 5\n"
          ],
          "name": "stdout"
        }
      ]
    },
    {
      "cell_type": "markdown",
      "metadata": {
        "id": "tVPblE4IYZYK"
      },
      "source": [
        "Τροποποίηση Νευρωνικού με 32 νευρώνες στο κρυφό επίπεδο."
      ]
    },
    {
      "cell_type": "code",
      "metadata": {
        "id": "HcETp9e-ODSW"
      },
      "source": [
        "model = Sequential()\n",
        "model.add(Dense(32, input_shape=(784,), activation='sigmoid'))\n",
        "model.add(Dense(units=10, activation='softmax'))\n",
        "\n",
        "sgd = SGD(lr=0.001)\n",
        "\n",
        "model.compile(loss= 'categorical_crossentropy', optimizer=sgd, metrics=['accuracy'])"
      ],
      "execution_count": null,
      "outputs": []
    },
    {
      "cell_type": "markdown",
      "metadata": {
        "id": "8TyHZSu2OuAK"
      },
      "source": [
        "Εκπαίδευση Νευρωνικού με 32 νευρώνες στο κρυφό επίπεδο."
      ]
    },
    {
      "cell_type": "code",
      "metadata": {
        "colab": {
          "base_uri": "https://localhost:8080/"
        },
        "id": "SxCbvuP5O2aO",
        "outputId": "861f9e42-b8f2-44d9-a689-7d8dddf515d2"
      },
      "source": [
        "model.fit(x=x_train, y=y_train, batch_size=32, epochs=50, verbose=2)"
      ],
      "execution_count": null,
      "outputs": [
        {
          "output_type": "stream",
          "text": [
            "Epoch 1/50\n",
            "1875/1875 - 2s - loss: 2.2321 - accuracy: 0.3022\n",
            "Epoch 2/50\n",
            "1875/1875 - 2s - loss: 2.0481 - accuracy: 0.5622\n",
            "Epoch 3/50\n",
            "1875/1875 - 2s - loss: 1.9037 - accuracy: 0.6176\n",
            "Epoch 4/50\n",
            "1875/1875 - 2s - loss: 1.7644 - accuracy: 0.6499\n",
            "Epoch 5/50\n",
            "1875/1875 - 2s - loss: 1.6328 - accuracy: 0.6826\n",
            "Epoch 6/50\n",
            "1875/1875 - 2s - loss: 1.5119 - accuracy: 0.7068\n",
            "Epoch 7/50\n",
            "1875/1875 - 2s - loss: 1.4031 - accuracy: 0.7311\n",
            "Epoch 8/50\n",
            "1875/1875 - 2s - loss: 1.3066 - accuracy: 0.7512\n",
            "Epoch 9/50\n",
            "1875/1875 - 2s - loss: 1.2216 - accuracy: 0.7693\n",
            "Epoch 10/50\n",
            "1875/1875 - 2s - loss: 1.1469 - accuracy: 0.7825\n",
            "Epoch 11/50\n",
            "1875/1875 - 2s - loss: 1.0814 - accuracy: 0.7938\n",
            "Epoch 12/50\n",
            "1875/1875 - 2s - loss: 1.0237 - accuracy: 0.8041\n",
            "Epoch 13/50\n",
            "1875/1875 - 2s - loss: 0.9727 - accuracy: 0.8123\n",
            "Epoch 14/50\n",
            "1875/1875 - 2s - loss: 0.9275 - accuracy: 0.8184\n",
            "Epoch 15/50\n",
            "1875/1875 - 2s - loss: 0.8873 - accuracy: 0.8246\n",
            "Epoch 16/50\n",
            "1875/1875 - 2s - loss: 0.8513 - accuracy: 0.8290\n",
            "Epoch 17/50\n",
            "1875/1875 - 2s - loss: 0.8189 - accuracy: 0.8343\n",
            "Epoch 18/50\n",
            "1875/1875 - 2s - loss: 0.7897 - accuracy: 0.8380\n",
            "Epoch 19/50\n",
            "1875/1875 - 2s - loss: 0.7632 - accuracy: 0.8421\n",
            "Epoch 20/50\n",
            "1875/1875 - 2s - loss: 0.7391 - accuracy: 0.8450\n",
            "Epoch 21/50\n",
            "1875/1875 - 2s - loss: 0.7170 - accuracy: 0.8482\n",
            "Epoch 22/50\n",
            "1875/1875 - 2s - loss: 0.6967 - accuracy: 0.8512\n",
            "Epoch 23/50\n",
            "1875/1875 - 2s - loss: 0.6781 - accuracy: 0.8535\n",
            "Epoch 24/50\n",
            "1875/1875 - 2s - loss: 0.6608 - accuracy: 0.8558\n",
            "Epoch 25/50\n",
            "1875/1875 - 2s - loss: 0.6448 - accuracy: 0.8579\n",
            "Epoch 26/50\n",
            "1875/1875 - 2s - loss: 0.6300 - accuracy: 0.8600\n",
            "Epoch 27/50\n",
            "1875/1875 - 2s - loss: 0.6161 - accuracy: 0.8621\n",
            "Epoch 28/50\n",
            "1875/1875 - 2s - loss: 0.6032 - accuracy: 0.8644\n",
            "Epoch 29/50\n",
            "1875/1875 - 2s - loss: 0.5911 - accuracy: 0.8660\n",
            "Epoch 30/50\n",
            "1875/1875 - 2s - loss: 0.5797 - accuracy: 0.8676\n",
            "Epoch 31/50\n",
            "1875/1875 - 2s - loss: 0.5690 - accuracy: 0.8693\n",
            "Epoch 32/50\n",
            "1875/1875 - 2s - loss: 0.5589 - accuracy: 0.8711\n",
            "Epoch 33/50\n",
            "1875/1875 - 2s - loss: 0.5494 - accuracy: 0.8726\n",
            "Epoch 34/50\n",
            "1875/1875 - 2s - loss: 0.5404 - accuracy: 0.8738\n",
            "Epoch 35/50\n",
            "1875/1875 - 2s - loss: 0.5318 - accuracy: 0.8749\n",
            "Epoch 36/50\n",
            "1875/1875 - 2s - loss: 0.5237 - accuracy: 0.8764\n",
            "Epoch 37/50\n",
            "1875/1875 - 2s - loss: 0.5161 - accuracy: 0.8775\n",
            "Epoch 38/50\n",
            "1875/1875 - 2s - loss: 0.5088 - accuracy: 0.8784\n",
            "Epoch 39/50\n",
            "1875/1875 - 2s - loss: 0.5018 - accuracy: 0.8794\n",
            "Epoch 40/50\n",
            "1875/1875 - 2s - loss: 0.4952 - accuracy: 0.8807\n",
            "Epoch 41/50\n",
            "1875/1875 - 2s - loss: 0.4889 - accuracy: 0.8815\n",
            "Epoch 42/50\n",
            "1875/1875 - 2s - loss: 0.4829 - accuracy: 0.8821\n",
            "Epoch 43/50\n",
            "1875/1875 - 2s - loss: 0.4771 - accuracy: 0.8832\n",
            "Epoch 44/50\n",
            "1875/1875 - 2s - loss: 0.4716 - accuracy: 0.8845\n",
            "Epoch 45/50\n",
            "1875/1875 - 2s - loss: 0.4664 - accuracy: 0.8850\n",
            "Epoch 46/50\n",
            "1875/1875 - 2s - loss: 0.4613 - accuracy: 0.8861\n",
            "Epoch 47/50\n",
            "1875/1875 - 2s - loss: 0.4565 - accuracy: 0.8868\n",
            "Epoch 48/50\n",
            "1875/1875 - 2s - loss: 0.4518 - accuracy: 0.8877\n",
            "Epoch 49/50\n",
            "1875/1875 - 2s - loss: 0.4473 - accuracy: 0.8885\n",
            "Epoch 50/50\n",
            "1875/1875 - 2s - loss: 0.4430 - accuracy: 0.8891\n"
          ],
          "name": "stdout"
        },
        {
          "output_type": "execute_result",
          "data": {
            "text/plain": [
              "<tensorflow.python.keras.callbacks.History at 0x7f917fec6c18>"
            ]
          },
          "metadata": {
            "tags": []
          },
          "execution_count": 15
        }
      ]
    },
    {
      "cell_type": "markdown",
      "metadata": {
        "id": "arQHwJzDOGvc"
      },
      "source": [
        "Εκπαίδευση για άλλες 50 εποχές.\n"
      ]
    },
    {
      "cell_type": "code",
      "metadata": {
        "colab": {
          "base_uri": "https://localhost:8080/"
        },
        "id": "0tQ6ZAyOOJE_",
        "outputId": "17428b1f-5e76-4d11-a110-da6b1745c63a"
      },
      "source": [
        "model.fit(x=x_train, y=y_train, batch_size=32, epochs=50, verbose=2)"
      ],
      "execution_count": null,
      "outputs": [
        {
          "output_type": "stream",
          "text": [
            "Epoch 1/50\n",
            "1875/1875 - 2s - loss: 0.4389 - accuracy: 0.8896\n",
            "Epoch 2/50\n",
            "1875/1875 - 2s - loss: 0.4349 - accuracy: 0.8904\n",
            "Epoch 3/50\n",
            "1875/1875 - 2s - loss: 0.4311 - accuracy: 0.8908\n",
            "Epoch 4/50\n",
            "1875/1875 - 2s - loss: 0.4274 - accuracy: 0.8913\n",
            "Epoch 5/50\n",
            "1875/1875 - 2s - loss: 0.4238 - accuracy: 0.8920\n",
            "Epoch 6/50\n",
            "1875/1875 - 2s - loss: 0.4204 - accuracy: 0.8927\n",
            "Epoch 7/50\n",
            "1875/1875 - 2s - loss: 0.4171 - accuracy: 0.8934\n",
            "Epoch 8/50\n",
            "1875/1875 - 2s - loss: 0.4139 - accuracy: 0.8939\n",
            "Epoch 9/50\n",
            "1875/1875 - 2s - loss: 0.4107 - accuracy: 0.8947\n",
            "Epoch 10/50\n",
            "1875/1875 - 2s - loss: 0.4077 - accuracy: 0.8950\n",
            "Epoch 11/50\n",
            "1875/1875 - 2s - loss: 0.4048 - accuracy: 0.8956\n",
            "Epoch 12/50\n",
            "1875/1875 - 2s - loss: 0.4020 - accuracy: 0.8963\n",
            "Epoch 13/50\n",
            "1875/1875 - 2s - loss: 0.3993 - accuracy: 0.8965\n",
            "Epoch 14/50\n",
            "1875/1875 - 2s - loss: 0.3966 - accuracy: 0.8974\n",
            "Epoch 15/50\n",
            "1875/1875 - 2s - loss: 0.3940 - accuracy: 0.8977\n",
            "Epoch 16/50\n",
            "1875/1875 - 2s - loss: 0.3915 - accuracy: 0.8982\n",
            "Epoch 17/50\n",
            "1875/1875 - 2s - loss: 0.3891 - accuracy: 0.8988\n",
            "Epoch 18/50\n",
            "1875/1875 - 2s - loss: 0.3867 - accuracy: 0.8991\n",
            "Epoch 19/50\n",
            "1875/1875 - 2s - loss: 0.3844 - accuracy: 0.8996\n",
            "Epoch 20/50\n",
            "1875/1875 - 2s - loss: 0.3822 - accuracy: 0.8999\n",
            "Epoch 21/50\n",
            "1875/1875 - 2s - loss: 0.3800 - accuracy: 0.9001\n",
            "Epoch 22/50\n",
            "1875/1875 - 2s - loss: 0.3779 - accuracy: 0.9005\n",
            "Epoch 23/50\n",
            "1875/1875 - 2s - loss: 0.3758 - accuracy: 0.9008\n",
            "Epoch 24/50\n",
            "1875/1875 - 2s - loss: 0.3738 - accuracy: 0.9013\n",
            "Epoch 25/50\n",
            "1875/1875 - 2s - loss: 0.3718 - accuracy: 0.9017\n",
            "Epoch 26/50\n",
            "1875/1875 - 2s - loss: 0.3699 - accuracy: 0.9020\n",
            "Epoch 27/50\n",
            "1875/1875 - 2s - loss: 0.3680 - accuracy: 0.9025\n",
            "Epoch 28/50\n",
            "1875/1875 - 2s - loss: 0.3662 - accuracy: 0.9026\n",
            "Epoch 29/50\n",
            "1875/1875 - 2s - loss: 0.3644 - accuracy: 0.9033\n",
            "Epoch 30/50\n",
            "1875/1875 - 2s - loss: 0.3627 - accuracy: 0.9033\n",
            "Epoch 31/50\n",
            "1875/1875 - 2s - loss: 0.3610 - accuracy: 0.9039\n",
            "Epoch 32/50\n",
            "1875/1875 - 2s - loss: 0.3593 - accuracy: 0.9040\n",
            "Epoch 33/50\n",
            "1875/1875 - 2s - loss: 0.3576 - accuracy: 0.9044\n",
            "Epoch 34/50\n",
            "1875/1875 - 2s - loss: 0.3560 - accuracy: 0.9046\n",
            "Epoch 35/50\n",
            "1875/1875 - 2s - loss: 0.3545 - accuracy: 0.9052\n",
            "Epoch 36/50\n",
            "1875/1875 - 2s - loss: 0.3529 - accuracy: 0.9053\n",
            "Epoch 37/50\n",
            "1875/1875 - 2s - loss: 0.3514 - accuracy: 0.9055\n",
            "Epoch 38/50\n",
            "1875/1875 - 2s - loss: 0.3500 - accuracy: 0.9057\n",
            "Epoch 39/50\n",
            "1875/1875 - 2s - loss: 0.3485 - accuracy: 0.9061\n",
            "Epoch 40/50\n",
            "1875/1875 - 2s - loss: 0.3471 - accuracy: 0.9065\n",
            "Epoch 41/50\n",
            "1875/1875 - 2s - loss: 0.3457 - accuracy: 0.9067\n",
            "Epoch 42/50\n",
            "1875/1875 - 2s - loss: 0.3443 - accuracy: 0.9071\n",
            "Epoch 43/50\n",
            "1875/1875 - 2s - loss: 0.3430 - accuracy: 0.9073\n",
            "Epoch 44/50\n",
            "1875/1875 - 2s - loss: 0.3417 - accuracy: 0.9075\n",
            "Epoch 45/50\n",
            "1875/1875 - 2s - loss: 0.3404 - accuracy: 0.9077\n",
            "Epoch 46/50\n",
            "1875/1875 - 2s - loss: 0.3391 - accuracy: 0.9079\n",
            "Epoch 47/50\n",
            "1875/1875 - 2s - loss: 0.3379 - accuracy: 0.9083\n",
            "Epoch 48/50\n",
            "1875/1875 - 2s - loss: 0.3367 - accuracy: 0.9085\n",
            "Epoch 49/50\n",
            "1875/1875 - 2s - loss: 0.3355 - accuracy: 0.9088\n",
            "Epoch 50/50\n",
            "1875/1875 - 2s - loss: 0.3343 - accuracy: 0.9091\n"
          ],
          "name": "stdout"
        },
        {
          "output_type": "execute_result",
          "data": {
            "text/plain": [
              "<tensorflow.python.keras.callbacks.History at 0x7f917fe42f98>"
            ]
          },
          "metadata": {
            "tags": []
          },
          "execution_count": 16
        }
      ]
    },
    {
      "cell_type": "markdown",
      "metadata": {
        "id": "vFoMh_7MOT-r"
      },
      "source": [
        "Αξιολόγηση."
      ]
    },
    {
      "cell_type": "code",
      "metadata": {
        "colab": {
          "base_uri": "https://localhost:8080/"
        },
        "id": "sijRvILFOWRp",
        "outputId": "3b161ee6-57ea-4559-8f09-1cce1cc4131e"
      },
      "source": [
        "print('Train accuracy:', model.evaluate(x_train,y_train, batch_size=64))\n",
        "print('Test accuracy:', model.evaluate(x_test,y_test, batch_size=64))\n",
        "\n",
        "y_pred = model.predict(x_test)\n",
        "y_pred_classes = np.argmax(y_pred, axis=1)\n",
        "print(y_pred)\n",
        "print(y_pred_classes)\n",
        "\n",
        "y_pred = model.predict(x_train)\n",
        "print(y_pred[0], np.argmax(y_pred[0]))"
      ],
      "execution_count": null,
      "outputs": [
        {
          "output_type": "stream",
          "text": [
            "938/938 [==============================] - 1s 984us/step - loss: 0.3336 - accuracy: 0.9092\n",
            "Train accuracy: [0.33358052372932434, 0.9092166423797607]\n",
            "157/157 [==============================] - 0s 951us/step - loss: 0.3213 - accuracy: 0.9122\n",
            "Test accuracy: [0.3213483691215515, 0.9121999740600586]\n",
            "[[3.3309154e-04 8.6417596e-05 7.0664764e-04 ... 9.9186808e-01\n",
            "  1.1161905e-04 2.7757909e-03]\n",
            " [2.8830685e-02 4.1247369e-03 7.5183702e-01 ... 5.8261692e-05\n",
            "  1.2895706e-02 1.9036020e-04]\n",
            " [1.2640690e-04 9.6351928e-01 1.0834511e-02 ... 6.3145552e-03\n",
            "  5.2759754e-03 1.4397678e-03]\n",
            " ...\n",
            " [4.6977519e-05 3.3029463e-04 3.7606302e-04 ... 7.1870601e-03\n",
            "  2.6169842e-02 8.1748277e-02]\n",
            " [6.0259164e-03 2.1685097e-02 1.8301635e-03 ... 1.0912138e-03\n",
            "  3.2897139e-01 2.3238657e-03]\n",
            " [1.3708748e-03 4.6202280e-05 4.5174295e-03 ... 1.1218249e-05\n",
            "  3.7822472e-05 4.3720749e-05]]\n",
            "[7 2 1 ... 4 5 6]\n",
            "[5.2603673e-02 1.4401325e-03 1.2055777e-02 3.0143335e-01 1.2717253e-04\n",
            " 5.9785271e-01 2.5141342e-03 1.7806474e-02 7.9712514e-03 6.1952765e-03] 5\n"
          ],
          "name": "stdout"
        }
      ]
    },
    {
      "cell_type": "markdown",
      "metadata": {
        "id": "Sh5bhrouYe1t"
      },
      "source": [
        "Τροποποίηση του Νευρωνικού με αλλαγή του SGD σε adam optimizer."
      ]
    },
    {
      "cell_type": "code",
      "metadata": {
        "id": "uVpb9J6y4r8T"
      },
      "source": [
        "model = Sequential()\n",
        "model.add(Dense(64, input_shape=(784,), activation='sigmoid'))\n",
        "model.add(Dense(units=10, activation='softmax'))\n",
        "\n",
        "\n",
        "model.compile(loss= 'categorical_crossentropy', optimizer='adam', metrics=['accuracy'])"
      ],
      "execution_count": null,
      "outputs": []
    },
    {
      "cell_type": "markdown",
      "metadata": {
        "id": "2wqTLssVYnid"
      },
      "source": [
        "Εκπαίδευση Νευρωνικού."
      ]
    },
    {
      "cell_type": "code",
      "metadata": {
        "colab": {
          "base_uri": "https://localhost:8080/"
        },
        "id": "nX9rxeWX4zlV",
        "outputId": "15d933dc-782a-413e-e4a5-28eefdf79bda"
      },
      "source": [
        "model.fit(x=x_train, y=y_train, batch_size=32, epochs=50, verbose=2)"
      ],
      "execution_count": null,
      "outputs": [
        {
          "output_type": "stream",
          "text": [
            "Epoch 1/50\n",
            "1875/1875 - 2s - loss: 0.4620 - accuracy: 0.8844\n",
            "Epoch 2/50\n",
            "1875/1875 - 2s - loss: 0.2207 - accuracy: 0.9372\n",
            "Epoch 3/50\n",
            "1875/1875 - 2s - loss: 0.1720 - accuracy: 0.9512\n",
            "Epoch 4/50\n",
            "1875/1875 - 2s - loss: 0.1417 - accuracy: 0.9597\n",
            "Epoch 5/50\n",
            "1875/1875 - 2s - loss: 0.1196 - accuracy: 0.9657\n",
            "Epoch 6/50\n",
            "1875/1875 - 2s - loss: 0.1029 - accuracy: 0.9712\n",
            "Epoch 7/50\n",
            "1875/1875 - 2s - loss: 0.0894 - accuracy: 0.9747\n",
            "Epoch 8/50\n",
            "1875/1875 - 2s - loss: 0.0792 - accuracy: 0.9778\n",
            "Epoch 9/50\n",
            "1875/1875 - 2s - loss: 0.0707 - accuracy: 0.9801\n",
            "Epoch 10/50\n",
            "1875/1875 - 2s - loss: 0.0632 - accuracy: 0.9827\n",
            "Epoch 11/50\n",
            "1875/1875 - 2s - loss: 0.0569 - accuracy: 0.9842\n",
            "Epoch 12/50\n",
            "1875/1875 - 2s - loss: 0.0514 - accuracy: 0.9859\n",
            "Epoch 13/50\n",
            "1875/1875 - 2s - loss: 0.0465 - accuracy: 0.9877\n",
            "Epoch 14/50\n",
            "1875/1875 - 2s - loss: 0.0420 - accuracy: 0.9891\n",
            "Epoch 15/50\n",
            "1875/1875 - 2s - loss: 0.0382 - accuracy: 0.9905\n",
            "Epoch 16/50\n",
            "1875/1875 - 2s - loss: 0.0346 - accuracy: 0.9917\n",
            "Epoch 17/50\n",
            "1875/1875 - 2s - loss: 0.0315 - accuracy: 0.9928\n",
            "Epoch 18/50\n",
            "1875/1875 - 2s - loss: 0.0286 - accuracy: 0.9937\n",
            "Epoch 19/50\n",
            "1875/1875 - 2s - loss: 0.0260 - accuracy: 0.9944\n",
            "Epoch 20/50\n",
            "1875/1875 - 2s - loss: 0.0241 - accuracy: 0.9948\n",
            "Epoch 21/50\n",
            "1875/1875 - 2s - loss: 0.0215 - accuracy: 0.9958\n",
            "Epoch 22/50\n",
            "1875/1875 - 2s - loss: 0.0193 - accuracy: 0.9965\n",
            "Epoch 23/50\n",
            "1875/1875 - 2s - loss: 0.0177 - accuracy: 0.9967\n",
            "Epoch 24/50\n",
            "1875/1875 - 2s - loss: 0.0160 - accuracy: 0.9974\n",
            "Epoch 25/50\n",
            "1875/1875 - 2s - loss: 0.0146 - accuracy: 0.9979\n",
            "Epoch 26/50\n",
            "1875/1875 - 2s - loss: 0.0131 - accuracy: 0.9983\n",
            "Epoch 27/50\n",
            "1875/1875 - 2s - loss: 0.0120 - accuracy: 0.9984\n",
            "Epoch 28/50\n",
            "1875/1875 - 2s - loss: 0.0108 - accuracy: 0.9988\n",
            "Epoch 29/50\n",
            "1875/1875 - 2s - loss: 0.0097 - accuracy: 0.9989\n",
            "Epoch 30/50\n",
            "1875/1875 - 2s - loss: 0.0086 - accuracy: 0.9992\n",
            "Epoch 31/50\n",
            "1875/1875 - 2s - loss: 0.0080 - accuracy: 0.9992\n",
            "Epoch 32/50\n",
            "1875/1875 - 2s - loss: 0.0071 - accuracy: 0.9994\n",
            "Epoch 33/50\n",
            "1875/1875 - 2s - loss: 0.0065 - accuracy: 0.9995\n",
            "Epoch 34/50\n",
            "1875/1875 - 2s - loss: 0.0058 - accuracy: 0.9997\n",
            "Epoch 35/50\n",
            "1875/1875 - 2s - loss: 0.0051 - accuracy: 0.9997\n",
            "Epoch 36/50\n",
            "1875/1875 - 2s - loss: 0.0048 - accuracy: 0.9997\n",
            "Epoch 37/50\n",
            "1875/1875 - 2s - loss: 0.0043 - accuracy: 0.9997\n",
            "Epoch 38/50\n",
            "1875/1875 - 2s - loss: 0.0037 - accuracy: 0.9998\n",
            "Epoch 39/50\n",
            "1875/1875 - 2s - loss: 0.0034 - accuracy: 0.9998\n",
            "Epoch 40/50\n",
            "1875/1875 - 2s - loss: 0.0031 - accuracy: 0.9999\n",
            "Epoch 41/50\n",
            "1875/1875 - 2s - loss: 0.0026 - accuracy: 1.0000\n",
            "Epoch 42/50\n",
            "1875/1875 - 2s - loss: 0.0027 - accuracy: 0.9999\n",
            "Epoch 43/50\n",
            "1875/1875 - 2s - loss: 0.0022 - accuracy: 0.9999\n",
            "Epoch 44/50\n",
            "1875/1875 - 2s - loss: 0.0019 - accuracy: 0.9999\n",
            "Epoch 45/50\n",
            "1875/1875 - 2s - loss: 0.0018 - accuracy: 1.0000\n",
            "Epoch 46/50\n",
            "1875/1875 - 2s - loss: 0.0017 - accuracy: 1.0000\n",
            "Epoch 47/50\n",
            "1875/1875 - 2s - loss: 0.0016 - accuracy: 0.9999\n",
            "Epoch 48/50\n",
            "1875/1875 - 2s - loss: 0.0013 - accuracy: 1.0000\n",
            "Epoch 49/50\n",
            "1875/1875 - 2s - loss: 0.0011 - accuracy: 1.0000\n",
            "Epoch 50/50\n",
            "1875/1875 - 2s - loss: 0.0011 - accuracy: 1.0000\n"
          ],
          "name": "stdout"
        },
        {
          "output_type": "execute_result",
          "data": {
            "text/plain": [
              "<tensorflow.python.keras.callbacks.History at 0x7fd77432ed30>"
            ]
          },
          "metadata": {
            "tags": []
          },
          "execution_count": 8
        }
      ]
    },
    {
      "cell_type": "markdown",
      "metadata": {
        "id": "KYbf4zOLYrRZ"
      },
      "source": [
        "Αξιολόγηση."
      ]
    },
    {
      "cell_type": "code",
      "metadata": {
        "colab": {
          "base_uri": "https://localhost:8080/"
        },
        "id": "VxmQA8pF5YkT",
        "outputId": "95ef3f74-f72b-405a-eb7e-aa3aa1b5ccd3"
      },
      "source": [
        "print('Train accuracy:', model.evaluate(x_train,y_train, batch_size=64))\n",
        "print('Test accuracy:', model.evaluate(x_test,y_test, batch_size=64))\n",
        "\n",
        "y_pred = model.predict(x_test)\n",
        "y_pred_classes = np.argmax(y_pred, axis=1)\n",
        "print(y_pred)\n",
        "print(y_pred_classes)\n",
        "\n",
        "y_pred = model.predict(x_train)\n",
        "print(y_pred[0], np.argmax(y_pred[0]))"
      ],
      "execution_count": null,
      "outputs": [
        {
          "output_type": "stream",
          "text": [
            "938/938 [==============================] - 1s 1ms/step - loss: 0.0011 - accuracy: 1.0000\n",
            "Train accuracy: [0.0010684571461752057, 1.0]\n",
            "157/157 [==============================] - 0s 1ms/step - loss: 0.1284 - accuracy: 0.9735\n",
            "Test accuracy: [0.12841376662254333, 0.9735000133514404]\n",
            "[[9.28097795e-14 9.17755982e-10 3.44276359e-08 ... 9.99996185e-01\n",
            "  1.61452285e-09 2.74763493e-11]\n",
            " [4.24561328e-08 2.58051443e-07 9.99997973e-01 ... 1.99326528e-10\n",
            "  1.38240409e-07 1.74293525e-15]\n",
            " [3.75563450e-16 9.99992609e-01 1.82168080e-07 ... 6.59505577e-06\n",
            "  4.97054032e-07 2.61661526e-12]\n",
            " ...\n",
            " [1.31167395e-17 3.00680867e-16 1.83102715e-16 ... 2.09898800e-11\n",
            "  8.09314560e-10 1.46741836e-08]\n",
            " [1.13659082e-14 1.97961612e-12 1.29296445e-14 ... 1.50830442e-11\n",
            "  2.55128496e-09 7.18483839e-16]\n",
            " [6.32596059e-11 1.08897012e-14 6.94551250e-10 ... 1.85598658e-14\n",
            "  2.10196837e-15 4.45141225e-15]]\n",
            "[7 2 1 ... 4 5 6]\n",
            "[3.1883680e-15 8.3623050e-13 1.2426299e-10 1.1385395e-03 5.5253140e-16\n",
            " 9.9886143e-01 2.4288541e-20 6.9264948e-11 1.5143001e-14 2.7175941e-09] 5\n"
          ],
          "name": "stdout"
        }
      ]
    },
    {
      "cell_type": "markdown",
      "metadata": {
        "id": "b7sk3InOkKrk"
      },
      "source": [
        "Προσθήκη ενός ακόμα κρυφού στρωματος 64 νευρώνων."
      ]
    },
    {
      "cell_type": "code",
      "metadata": {
        "id": "g5G8fv538Pt4"
      },
      "source": [
        "model = Sequential()\n",
        "model.add(Dense(64, input_shape=(784,), activation='sigmoid'))\n",
        "model.add(Dense(64, activation='sigmoid'))\n",
        "model.add(Dense(units=10, activation='softmax'))\n",
        "\n",
        "\n",
        "model.compile(loss= 'categorical_crossentropy', optimizer='adam', metrics=['accuracy'])"
      ],
      "execution_count": null,
      "outputs": []
    },
    {
      "cell_type": "markdown",
      "metadata": {
        "id": "zo5BnqDwkPjk"
      },
      "source": [
        "Εκπαίδευση του Νευρωνικού."
      ]
    },
    {
      "cell_type": "code",
      "metadata": {
        "colab": {
          "base_uri": "https://localhost:8080/"
        },
        "id": "QLhAriwV87x0",
        "outputId": "54252abc-8e9f-4239-ae3e-c08bbdf63425"
      },
      "source": [
        "model.fit(x=x_train, y=y_train, batch_size=64, epochs=50, verbose=2)"
      ],
      "execution_count": null,
      "outputs": [
        {
          "output_type": "stream",
          "text": [
            "Epoch 1/50\n",
            "938/938 - 2s - loss: 0.7011 - accuracy: 0.8301\n",
            "Epoch 2/50\n",
            "938/938 - 1s - loss: 0.2451 - accuracy: 0.9305\n",
            "Epoch 3/50\n",
            "938/938 - 2s - loss: 0.1804 - accuracy: 0.9480\n",
            "Epoch 4/50\n",
            "938/938 - 2s - loss: 0.1429 - accuracy: 0.9586\n",
            "Epoch 5/50\n",
            "938/938 - 2s - loss: 0.1182 - accuracy: 0.9654\n",
            "Epoch 6/50\n",
            "938/938 - 1s - loss: 0.0995 - accuracy: 0.9713\n",
            "Epoch 7/50\n",
            "938/938 - 1s - loss: 0.0866 - accuracy: 0.9748\n",
            "Epoch 8/50\n",
            "938/938 - 2s - loss: 0.0754 - accuracy: 0.9782\n",
            "Epoch 9/50\n",
            "938/938 - 1s - loss: 0.0656 - accuracy: 0.9809\n",
            "Epoch 10/50\n",
            "938/938 - 2s - loss: 0.0588 - accuracy: 0.9831\n",
            "Epoch 11/50\n",
            "938/938 - 2s - loss: 0.0520 - accuracy: 0.9847\n",
            "Epoch 12/50\n",
            "938/938 - 2s - loss: 0.0466 - accuracy: 0.9866\n",
            "Epoch 13/50\n",
            "938/938 - 2s - loss: 0.0410 - accuracy: 0.9885\n",
            "Epoch 14/50\n",
            "938/938 - 2s - loss: 0.0363 - accuracy: 0.9900\n",
            "Epoch 15/50\n",
            "938/938 - 2s - loss: 0.0325 - accuracy: 0.9914\n",
            "Epoch 16/50\n",
            "938/938 - 2s - loss: 0.0289 - accuracy: 0.9924\n",
            "Epoch 17/50\n",
            "938/938 - 2s - loss: 0.0258 - accuracy: 0.9934\n",
            "Epoch 18/50\n",
            "938/938 - 1s - loss: 0.0229 - accuracy: 0.9945\n",
            "Epoch 19/50\n",
            "938/938 - 2s - loss: 0.0198 - accuracy: 0.9952\n",
            "Epoch 20/50\n",
            "938/938 - 2s - loss: 0.0173 - accuracy: 0.9963\n",
            "Epoch 21/50\n",
            "938/938 - 2s - loss: 0.0154 - accuracy: 0.9963\n",
            "Epoch 22/50\n",
            "938/938 - 2s - loss: 0.0143 - accuracy: 0.9967\n",
            "Epoch 23/50\n",
            "938/938 - 2s - loss: 0.0120 - accuracy: 0.9976\n",
            "Epoch 24/50\n",
            "938/938 - 2s - loss: 0.0104 - accuracy: 0.9980\n",
            "Epoch 25/50\n",
            "938/938 - 1s - loss: 0.0092 - accuracy: 0.9983\n",
            "Epoch 26/50\n",
            "938/938 - 2s - loss: 0.0079 - accuracy: 0.9988\n",
            "Epoch 27/50\n",
            "938/938 - 2s - loss: 0.0067 - accuracy: 0.9990\n",
            "Epoch 28/50\n",
            "938/938 - 1s - loss: 0.0060 - accuracy: 0.9992\n",
            "Epoch 29/50\n",
            "938/938 - 2s - loss: 0.0058 - accuracy: 0.9990\n",
            "Epoch 30/50\n",
            "938/938 - 1s - loss: 0.0049 - accuracy: 0.9993\n",
            "Epoch 31/50\n",
            "938/938 - 2s - loss: 0.0044 - accuracy: 0.9994\n",
            "Epoch 32/50\n",
            "938/938 - 1s - loss: 0.0038 - accuracy: 0.9995\n",
            "Epoch 33/50\n",
            "938/938 - 1s - loss: 0.0045 - accuracy: 0.9991\n",
            "Epoch 34/50\n",
            "938/938 - 2s - loss: 0.0032 - accuracy: 0.9996\n",
            "Epoch 35/50\n",
            "938/938 - 2s - loss: 0.0018 - accuracy: 0.9999\n",
            "Epoch 36/50\n",
            "938/938 - 2s - loss: 0.0035 - accuracy: 0.9993\n",
            "Epoch 37/50\n",
            "938/938 - 2s - loss: 0.0025 - accuracy: 0.9997\n",
            "Epoch 38/50\n",
            "938/938 - 2s - loss: 0.0019 - accuracy: 0.9997\n",
            "Epoch 39/50\n",
            "938/938 - 2s - loss: 0.0013 - accuracy: 0.9999\n",
            "Epoch 40/50\n",
            "938/938 - 2s - loss: 0.0032 - accuracy: 0.9992\n",
            "Epoch 41/50\n",
            "938/938 - 2s - loss: 0.0023 - accuracy: 0.9995\n",
            "Epoch 42/50\n",
            "938/938 - 2s - loss: 7.4931e-04 - accuracy: 1.0000\n",
            "Epoch 43/50\n",
            "938/938 - 2s - loss: 5.7741e-04 - accuracy: 1.0000\n",
            "Epoch 44/50\n",
            "938/938 - 2s - loss: 5.6123e-04 - accuracy: 1.0000\n",
            "Epoch 45/50\n",
            "938/938 - 2s - loss: 0.0057 - accuracy: 0.9983\n",
            "Epoch 46/50\n",
            "938/938 - 2s - loss: 7.4947e-04 - accuracy: 1.0000\n",
            "Epoch 47/50\n",
            "938/938 - 2s - loss: 3.7537e-04 - accuracy: 1.0000\n",
            "Epoch 48/50\n",
            "938/938 - 2s - loss: 3.2453e-04 - accuracy: 1.0000\n",
            "Epoch 49/50\n",
            "938/938 - 2s - loss: 3.2186e-04 - accuracy: 1.0000\n",
            "Epoch 50/50\n",
            "938/938 - 2s - loss: 0.0052 - accuracy: 0.9984\n"
          ],
          "name": "stdout"
        },
        {
          "output_type": "execute_result",
          "data": {
            "text/plain": [
              "<tensorflow.python.keras.callbacks.History at 0x7fd771c54ac8>"
            ]
          },
          "metadata": {
            "tags": []
          },
          "execution_count": 11
        }
      ]
    },
    {
      "cell_type": "markdown",
      "metadata": {
        "id": "8rw1cX4qkGp1"
      },
      "source": [
        "Αξιολόγηση."
      ]
    },
    {
      "cell_type": "code",
      "metadata": {
        "colab": {
          "base_uri": "https://localhost:8080/"
        },
        "id": "kkdb_73D-1ff",
        "outputId": "a2f60a50-b7bb-412c-8b9c-de14c707be9e"
      },
      "source": [
        "print('Train accuracy:', model.evaluate(x_train,y_train, batch_size=64))\n",
        "print('Test accuracy:', model.evaluate(x_test,y_test, batch_size=64))\n",
        "\n",
        "y_pred = model.predict(x_test)\n",
        "y_pred_classes = np.argmax(y_pred, axis=1)\n",
        "print(y_pred)\n",
        "print(y_pred_classes)\n",
        "\n",
        "y_pred = model.predict(x_train)\n",
        "print(y_pred[0], np.argmax(y_pred[0]))"
      ],
      "execution_count": null,
      "outputs": [
        {
          "output_type": "stream",
          "text": [
            "938/938 [==============================] - 1s 1ms/step - loss: 8.9116e-04 - accuracy: 1.0000\n",
            "Train accuracy: [0.0008911622571758926, 0.9999666810035706]\n",
            "157/157 [==============================] - 0s 1ms/step - loss: 0.1475 - accuracy: 0.9739\n",
            "Test accuracy: [0.14752569794654846, 0.9739000201225281]\n",
            "[[3.3179075e-13 8.8501755e-11 1.5091216e-11 ... 1.0000000e+00\n",
            "  2.1154362e-13 4.1405182e-10]\n",
            " [1.7183436e-13 2.9350563e-06 9.9999702e-01 ... 1.4444515e-12\n",
            "  1.1005022e-12 1.1232836e-18]\n",
            " [3.0255858e-15 9.9999940e-01 2.4367710e-08 ... 5.0004184e-07\n",
            "  6.2106558e-08 2.3164758e-12]\n",
            " ...\n",
            " [1.5780663e-14 3.5751358e-13 7.7385862e-15 ... 5.6709898e-10\n",
            "  1.6650162e-14 8.3043503e-11]\n",
            " [4.0958075e-14 2.0748765e-12 6.0377652e-16 ... 5.3958265e-13\n",
            "  3.1561711e-07 5.2387790e-17]\n",
            " [1.0587324e-10 3.5501636e-13 1.2704147e-12 ... 4.6134060e-20\n",
            "  1.8005222e-13 3.3107875e-14]]\n",
            "[7 2 1 ... 4 5 6]\n",
            "[6.7757355e-15 1.5275713e-13 8.7020956e-18 1.3097321e-06 7.4146466e-14\n",
            " 9.9999869e-01 4.5119946e-15 6.5177552e-14 3.1420046e-13 2.2351656e-13] 5\n"
          ],
          "name": "stdout"
        }
      ]
    }
  ]
}